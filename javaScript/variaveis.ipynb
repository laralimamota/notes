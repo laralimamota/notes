{
 "cells": [
  {
   "cell_type": "markdown",
   "metadata": {},
   "source": [
    "# Variáveis"
   ]
  },
  {
   "cell_type": "markdown",
   "metadata": {},
   "source": [
    "## Regras p nomes de identificadores:\n",
    "- Podem começar com letra, $ ou _\n",
    "- N pode começar com números\n",
    "- É possível usar letras ou números\n",
    "- É possível usar acentos e símbolols\n",
    "- n pode conter espaço (substituir pela _)\n",
    "- N pode usar palavras reservadas\n",
    "\n",
    "#### Obs.:\n",
    "- Letras maiúsculas fazem diferença\n",
    "\n",
    "## Tipos de variáveis:\n",
    "- int: guarda números (ex: 10, 2344415.3, 0)\n",
    "- str: guarda texto (ex: \"está passando em sua rua o carro do ovo\")\n",
    "- booleano: guarda verdadeiro ou falso (ex: true, false)\n",
    "- obj: guarda um conjunto de dados relacionados (ex:{nome:\"manoel gomes\", qualidade:\"beleza\"})\n",
    "- list: guiarda uma lista de itens (ex: [1, 2, 3])\n",
    "- null: indica ausência de valor (ex: NULL)\n",
    "- undefined: indica uma variável que n tem valor atribuído\n",
    "\n"
   ]
  },
  {
   "cell_type": "markdown",
   "metadata": {},
   "source": []
  }
 ],
 "metadata": {
  "language_info": {
   "name": "python"
  }
 },
 "nbformat": 4,
 "nbformat_minor": 2
}
