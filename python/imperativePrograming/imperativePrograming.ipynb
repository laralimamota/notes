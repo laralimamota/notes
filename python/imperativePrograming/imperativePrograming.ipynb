{
 "cells": [
  {
   "cell_type": "markdown",
   "metadata": {},
   "source": [
    "# Programação imperativa\n",
    "É uyma forma bem primitiva de programar, operacionalizando todas as etapas para alcançar o resultado. Nesse paradigma vc escreve instruções para todos os processos que o computador desempenhará. atebntando-se a:\n",
    "    Sequencialidade: Em programação imperativa, as instruções são executadas sequencialmente,   uma após a outra, na ordem em que foram escritas no código. Isso significa que o programa     segue uma linha de execução direta, passo a passo.\n",
    "\n",
    "    Modificação de estado: Um aspecto fundamental da programação imperativa é o conceito de     estado. O estado de um programa é basicamente o conjunto de variáveis e suas respectivas    valores em um determinado momento durante a execução. Na programação imperativa, você pode     modificar diretamente o estado das variáveis, ou seja, alterar seus valores conforme    necessário.\n",
    "\n",
    "    Instruções de controle de fluxo: Você pode controlar o fluxo de execução em um programa     imperativo usando instruções como condicionais (if-else) e loops (for, while). Isso     permite que você tome decisões com base em condições específicas e repita determinadas  partes do código conforme necessário.\n",
    "\n",
    "    Procedimentos e funções: Na programação imperativa, você pode organizar seu código em   procedimentos e funções. Procedimentos são blocos de código que realizam uma tarefa   específica e podem ser chamados em qualquer ponto do programa. Funções são semelhantes aos    procedimentos, mas também podem retornar um valor.\n",
    "\n",
    "    Abstração de dados: Embora a programação imperativa se concentre principalmente em  manipular o estado do programa, é possível usar técnicas de abstração para organizar e   estruturar o código de maneira mais eficiente. Isso pode incluir o uso de estruturas de   dados como arrays, listas e objetos para representar informações de maneira mais  organizada e acessível."
   ]
  }
 ],
 "metadata": {
  "language_info": {
   "name": "python"
  }
 },
 "nbformat": 4,
 "nbformat_minor": 2
}
