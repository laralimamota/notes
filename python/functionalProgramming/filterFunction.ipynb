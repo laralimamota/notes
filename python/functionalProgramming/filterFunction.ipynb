{
 "cells": [
  {
   "cell_type": "markdown",
   "metadata": {},
   "source": [
    "# Função FILTER() c:\n",
    "\n",
    "Imagine uma cesta cheia de pasteis e que vc quer saber qual pastel é de queijo. Agora imagine que vc tem um truque secreto para verificar se o pastel é de queijo ou não. A função filter() é semelhante ao processo de pegar essa cesta, verificar qual pastel é de queijo, e descartar os pasteis que não sejam de queijo. agora vc tem uma cesta somente com os pasteis que passaram pelo seu critério. \n",
    "\n",
    "Diferente da função map(), que seria semelhante, por exemplo, a pegar cada pastel e adicionar gueroba nele. Agora vc tem uma cesta cheia de pasteis modificados. A função filter(), por outro lado, cria um novo conjunto com apenas os elementos que atendem a um determinado critério.\n"
   ]
  },
  {
   "cell_type": "markdown",
   "metadata": {},
   "source": [
    "A sintaxe desta função é a seguinter:\n",
    "\n",
    "    variável = filter(função, coleção)\n",
    "\n",
    "A *função* necessariamente deve retornar um valor booleano após sua execução em cada valor do conjunto."
   ]
  },
  {
   "cell_type": "markdown",
   "metadata": {},
   "source": []
  }
 ],
 "metadata": {
  "kernelspec": {
   "display_name": "Python 3",
   "language": "python",
   "name": "python3"
  },
  "language_info": {
   "codemirror_mode": {
    "name": "ipython",
    "version": 3
   },
   "file_extension": ".py",
   "mimetype": "text/x-python",
   "name": "python",
   "nbconvert_exporter": "python",
   "pygments_lexer": "ipython3",
   "version": "3.12.1"
  }
 },
 "nbformat": 4,
 "nbformat_minor": 2
}
