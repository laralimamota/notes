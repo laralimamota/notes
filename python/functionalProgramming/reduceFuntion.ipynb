{
 "cells": [
  {
   "cell_type": "markdown",
   "metadata": {},
   "source": [
    "# Função REDUCE() c:\n",
    "\n",
    "Reduce é uma função não nativa do python, vc precisa importá-la <from functools import reduce>.\n",
    "É uma ferramenta que permite aplicar uma função específica acumulativamente aos itens de uma sequência, de forma a reduzir a sequência a um único valor =D.\n",
    "\n",
    "Funciona assim:\n",
    "   - Ela pega os dois primeiros elementos da sequência e aplica a função a eles.\n",
    "   - Depois pega o resultado e o próximo elemento da sequência e também a aplica a função.\n",
    "   - Essa sequência se repete até que todos os elementos da sequência tenham sido processadoos, resultando em um único valor.\n",
    "   - Aqui vai um loop que continua até que haja apenas um único elemento na sequência.\n",
    "\n",
    "A estrutura geral de Reduce(função,sequência) é:\n",
    "   ```python\n",
    "   Reduce (função, sequência, [inicial]) -> valor resultante\n",
    "   ```"
   ]
  },
  {
   "cell_type": "code",
   "execution_count": 6,
   "metadata": {},
   "outputs": [
    {
     "name": "stdout",
     "output_type": "stream",
     "text": [
      "6\n"
     ]
    }
   ],
   "source": [
    "from functools import reduce\n",
    "\n",
    "numeros = [1, 2, 3]\n",
    "soma = reduce(lambda x,y: x + y, numeros, 0)\n",
    "print (soma)"
   ]
  },
  {
   "cell_type": "markdown",
   "metadata": {},
   "source": [
    "Vc tbm pode usar para:\n",
    "- Encontrar o maior número em uma lista\n",
    "- Concatenação de Strings\n",
    "- Contando a Frequência de Caracteres em uma String\n",
    "- Unindo Listas Dentro de uma Lista\n",
    "- Transformando uma Lista de Dicionários em um Único Dicionário"
   ]
  },
  {
   "cell_type": "code",
   "execution_count": 9,
   "metadata": {},
   "outputs": [
    {
     "name": "stdout",
     "output_type": "stream",
     "text": [
      "598\n"
     ]
    }
   ],
   "source": [
    "# Exemplo de encontrar o maior valor entre os valores de uma lista\n",
    "numerosDoMeuExemploIncrivel = [59, 30, 2, 427, 598]\n",
    "encontrarOMaiorNumero = reduce(lambda x, y: x if x > y else y, numerosDoMeuExemploIncrivel, 0)\n",
    "print(encontrarOMaiorNumero)"
   ]
  },
  {
   "cell_type": "markdown",
   "metadata": {},
   "source": []
  }
 ],
 "metadata": {
  "kernelspec": {
   "display_name": "Python 3",
   "language": "python",
   "name": "python3"
  },
  "language_info": {
   "codemirror_mode": {
    "name": "ipython",
    "version": 3
   },
   "file_extension": ".py",
   "mimetype": "text/x-python",
   "name": "python",
   "nbconvert_exporter": "python",
   "pygments_lexer": "ipython3",
   "version": "3.12.1"
  }
 },
 "nbformat": 4,
 "nbformat_minor": 2
}
