{
 "cells": [
  {
   "cell_type": "markdown",
   "metadata": {},
   "source": [
    "# Função MAP() c:\n",
    "\n",
    "A função map() em Python ajuda a fazer uma coisa: aplicar uma operação a todos os itens em uma lista e obter os resultados em uma nova lista.\n",
    "\n",
    "Exemplo: se vc tem uma lista de nomes ['lara', 'eduarda', 'aline', 'alcione', 'neymar'] e quer verificar qual nome segue certo critério, então você pode usar o map():"
   ]
  },
  {
   "cell_type": "code",
   "execution_count": 6,
   "metadata": {},
   "outputs": [
    {
     "name": "stdout",
     "output_type": "stream",
     "text": [
      "['lindo', 'feiao', 'feiao', 'feiao', 'feiao']\n"
     ]
    }
   ],
   "source": [
    "nomes = ['lara', 'eduarda', 'aline', 'alcione', 'neymar']\n",
    "\n",
    "# Verificar cada nome de acordo com um critério específico usando map() com if\n",
    "verificadorDeNomeBonito = map(lambda nome: 'lindo' if nome == 'lara' else 'feiao', nomes)\n",
    "\n",
    "# O verificador é só um iterador. Para ver os resultados como uma lista, precisa converter para uma lista\n",
    "veredito = list(verificadorDeNomeBonito)\n",
    "\n",
    "print(veredito)"
   ]
  },
  {
   "cell_type": "markdown",
   "metadata": {},
   "source": [
    "# Nomenclatura\n",
    "\n",
    "O nome \"map\" vem do conceito de mapeamento em matemática, onde você tem um conjunto de valores de entrada e um conjunto correspondente de valores de saída. A função map() faz algo semelhante: ela pega um conjunto de valores de entrada (os elementos da lista), aplica uma transformação a cada um deles e produz um novo conjunto de valores de saída."
   ]
  }
 ],
 "metadata": {
  "kernelspec": {
   "display_name": "Python 3",
   "language": "python",
   "name": "python3"
  },
  "language_info": {
   "codemirror_mode": {
    "name": "ipython",
    "version": 3
   },
   "file_extension": ".py",
   "mimetype": "text/x-python",
   "name": "python",
   "nbconvert_exporter": "python",
   "pygments_lexer": "ipython3",
   "version": "3.12.1"
  }
 },
 "nbformat": 4,
 "nbformat_minor": 2
}
