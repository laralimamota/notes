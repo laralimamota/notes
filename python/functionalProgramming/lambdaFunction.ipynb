{
 "cells": [
  {
   "cell_type": "markdown",
   "metadata": {},
   "source": [
    "# funções lambda \n",
    "São funções anônimas, funções p resolver um probleminha rápido mas que exige qa declaração de uma função.\n",
    "\n",
    "Elas são úteis em situações onde vc precisa de uma **função simples e temporária**, tipo em expressões matemáticas, filtragem de dados ou mapeamento de elementos em uma lista.\n",
    "\n",
    "obs: fazer uma função formal com def é melhor e deixa o código mais legível, mas em situações onde vc precisa de uma função simples e temporárioa, com dentro de uma expressção ou passando uma uma função como argumento para outra função (como em 'map' ou 'filter'em python), usar uma função lambda pode ser mais vceonvniente e conciso.\n",
    "\n",
    "variavel = lambda params: expressao"
   ]
  },
  {
   "cell_type": "code",
   "execution_count": 1,
   "metadata": {},
   "outputs": [
    {
     "name": "stdout",
     "output_type": "stream",
     "text": [
      "21\n"
     ]
    }
   ],
   "source": [
    "minhaIdade = lambda anoAtual: anoAtual - 2003\n",
    "print(minhaIdade(2024))"
   ]
  },
  {
   "cell_type": "markdown",
   "metadata": {},
   "source": [
    "# fubçõies de alta ordem\n",
    "Funções de alta ordem são funções que aceitam outras funções como argumentos e/ou retornam funções como resultado."
   ]
  },
  {
   "cell_type": "code",
   "execution_count": 3,
   "metadata": {},
   "outputs": [
    {
     "name": "stdout",
     "output_type": "stream",
     "text": [
      "12\n"
     ]
    }
   ],
   "source": [
    "def calculadoraHAHAHAHAHAHAHAHA(operador):\n",
    "    if operador == '+':\n",
    "        return lambda x, y: x + y\n",
    "    elif operador == '-':\n",
    "        return lambda x, y: x - y\n",
    "    elif operador == '*':\n",
    "        return lambda x, y: x * y\n",
    "    elif operador == '/':\n",
    "        return lambda x, y: x / y\n",
    "    else:\n",
    "        raise ValueError(\"Operador inválido\")\n",
    "\n",
    "soma = calculadoraHAHAHAHAHAHAHAHA('+')\n",
    "subtracao = calculadoraHAHAHAHAHAHAHAHA('-')\n",
    "divisao = calculadoraHAHAHAHAHAHAHAHA('/')\n",
    "multiplicacao = calculadoraHAHAHAHAHAHAHAHA('*')\n",
    "\n",
    "print(multiplicacao(3,4)) "
   ]
  }
 ],
 "metadata": {
  "kernelspec": {
   "display_name": "Python 3",
   "language": "python",
   "name": "python3"
  },
  "language_info": {
   "codemirror_mode": {
    "name": "ipython",
    "version": 3
   },
   "file_extension": ".py",
   "mimetype": "text/x-python",
   "name": "python",
   "nbconvert_exporter": "python",
   "pygments_lexer": "ipython3",
   "version": "3.12.1"
  }
 },
 "nbformat": 4,
 "nbformat_minor": 2
}
