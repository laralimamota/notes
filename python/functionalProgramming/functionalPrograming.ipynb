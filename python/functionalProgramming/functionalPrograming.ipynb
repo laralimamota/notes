{
 "cells": [
  {
   "cell_type": "markdown",
   "metadata": {},
   "source": [
    "# Programação funcional\n",
    "Aqui pensa-se mais em termos de funções, que são pequenos pedaços de código que pegam dados de entrada, fazem alguma coisa com esses dados e retornam um resultado. É como se vc tivesse uma série de ferramentas em uma caixa de ferramentas, e cada uma delas faz uma operação específica. Quando estiver pregando um prego na parede, não precisa criar uma ferramenta que pregue o prego na parede, basta pegar o martelo que já está na caixa de ferramentas.\n",
    "\n",
    "exemplo idiota ridículo:\n",
    "\n",
    "    Na programação orientada a objetos, vc pode pensar em um programa como se fosse uma fábrica de carros, onde cada carro é um objeto. Cada carro tem suas próprias características, como cor, modelo e velocidade, e pode executar ações específicas, como acelerar, frear, virar e capotar.\n",
    "    Agora, na **programação funcional**, você pode pensar nessa fábrica como uma linha de produção em que você tem várias etapas de montagem, e cada etapa realiza uma transformação nos carros. Ngm liga pras especificações de cada um.\n",
    "    Por exemplo, uma etapa pode ser pintar todos os carros de vermelho, outra etapa pode ser aumentar a velocidade de todos os carros em 10%, e assim por diante.\n",
    "    Em vez de você lidar diretamente com cada carro individualmente e dizer o que fazer com ele, você define uma série de transformações que serão aplicadas a todos os carros. Essas transformações são como funções na programação funcional.\n",
    "    Então, em vez de lidar com objetos específicos e suas características, na programação funcional você trabalha mais com funções que operam em conjuntos de dados e os transformam de acordo com as regras que você define. É como se você tivesse uma linha de produção de carros, onde cada etapa aplica uma operação específica a todos os carros que passam por ela. (Etapas da fábrica seriam funções. Carros seriam parâmetros das funções)"
   ]
  }
 ],
 "metadata": {
  "language_info": {
   "name": "python"
  }
 },
 "nbformat": 4,
 "nbformat_minor": 2
}
